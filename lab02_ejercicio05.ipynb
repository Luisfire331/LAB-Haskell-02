{
 "cells": [
  {
   "cell_type": "code",
   "execution_count": 12,
   "id": "a34f3b1b-ff7b-4a80-8577-287b64eaf5a3",
   "metadata": {
    "tags": []
   },
   "outputs": [],
   "source": [
    "type Estado = (Int, Int)\n",
    "type Nodo = Estado\n",
    "type Costo = Int\n",
    "type Grafo = [(Nodo, [(Nodo, Costo)])]\n"
   ]
  },
  {
   "cell_type": "code",
   "execution_count": 21,
   "id": "462e8e38-b1ff-4d64-a0b0-38bccad5de20",
   "metadata": {
    "tags": []
   },
   "outputs": [],
   "source": [
    "capA, capB :: Int\n",
    "capA = 5\n",
    "capB = 3\n",
    "\n",
    "-- Genera todos los estados alcanzables desde uno dado\n",
    "vecinos :: Estado -> [(Estado, Costo)]\n",
    "vecinos (a,b) =\n",
    "  [ ((capA, b), 1)            -- Llenar jarra A\n",
    "  , ((a, capB), 1)            -- Llenar jarra B\n",
    "  , ((0, b), 1)               -- Vaciar jarra A\n",
    "  , ((a, 0), 1)               -- Vaciar jarra B\n",
    "  , (transferirAB (a,b), 1)  -- Verter A→B\n",
    "  , (transferirBA (a,b), 1)  -- Verter B→A\n",
    "  ]\n",
    "\n",
    "-- Verter de A a B\n",
    "transferirAB :: Estado -> Estado\n",
    "transferirAB (a, b) =\n",
    "  let espacioB = capB - b\n",
    "      cantidad = min a espacioB\n",
    "  in (a - cantidad, b + cantidad)\n",
    "\n",
    "-- Verter de B a A\n",
    "transferirBA :: Estado -> Estado\n",
    "transferirBA (a, b) =\n",
    "  let espacioA = capA - a\n",
    "      cantidad = min b espacioA\n",
    "  in (a + cantidad, b - cantidad)\n"
   ]
  },
  {
   "cell_type": "code",
   "execution_count": 19,
   "id": "cd7ff01c-7af5-4d4b-ba60-c059ae774e11",
   "metadata": {
    "tags": []
   },
   "outputs": [],
   "source": [
    "heuristica :: Estado -> Costo\n",
    "heuristica (a, b) = abs (4 - a) `min` abs (4 - b)\n"
   ]
  },
  {
   "cell_type": "code",
   "execution_count": 15,
   "id": "8e84f54f-ca3b-436d-83a1-e0273d9b03a1",
   "metadata": {
    "tags": []
   },
   "outputs": [
    {
     "data": {
      "text/plain": [
       "[((0,0),0),((5,0),1),((0,3),1),((5,3),2),((2,3),2),((3,0),2),((3,3),3),((2,0),3),((5,1),4),((0,2),4),((5,2),5),((4,3),6),((4,0),7)]"
      ]
     },
     "metadata": {},
     "output_type": "display_data"
    }
   ],
   "source": [
    "import Data.List (sortOn)\n",
    "\n",
    "aStar :: (Nodo -> [(Nodo, Costo)]) -> (Nodo -> Costo) -> Nodo -> Nodo -> [(Nodo, Costo)]\n",
    "aStar sucesores heuristica inicio meta = buscar [(inicio, 0)] []\n",
    "  where\n",
    "    buscar [] _ = []\n",
    "    buscar ((nodo, costo):cola) visitados\n",
    "      | nodo == meta = [(nodo, costo)]\n",
    "      | nodo `elem` visitados = buscar cola visitados\n",
    "      | otherwise =\n",
    "          let nuevos = [ (v, costo + c) | (v, c) <- sucesores nodo, v `notElem` visitados ]\n",
    "              ordenados = sortOn (\\(v, c) -> c + heuristica v) (cola ++ nuevos)\n",
    "          in (nodo, costo) : buscar ordenados (nodo : visitados)\n",
    "\n",
    "aStar vecinos heuristica inicio meta\n"
   ]
  },
  {
   "cell_type": "code",
   "execution_count": null,
   "id": "81cc83ce-5471-4a75-8cf8-524e935f16da",
   "metadata": {},
   "outputs": [],
   "source": []
  }
 ],
 "metadata": {
  "kernelspec": {
   "display_name": "Haskell",
   "language": "haskell",
   "name": "haskell"
  },
  "language_info": {
   "codemirror_mode": "ihaskell",
   "file_extension": ".hs",
   "mimetype": "text/x-haskell",
   "name": "haskell",
   "pygments_lexer": "Haskell",
   "version": "9.6.4"
  }
 },
 "nbformat": 4,
 "nbformat_minor": 5
}
